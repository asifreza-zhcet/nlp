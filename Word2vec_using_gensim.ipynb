{
 "cells": [
  {
   "cell_type": "markdown",
   "id": "2d2d1174",
   "metadata": {},
   "source": [
    "# Word2vec using gensim on Game of thrones novels"
   ]
  },
  {
   "cell_type": "markdown",
   "id": "6934af1a",
   "metadata": {},
   "source": [
    "1. First we download all the files (novels) into a single folder.\n",
    "2. We then open each file (novels) and add them into a single string file called story"
   ]
  },
  {
   "cell_type": "code",
   "execution_count": 1,
   "id": "d6b9d97b",
   "metadata": {},
   "outputs": [
    {
     "data": {
      "text/plain": [
       "'a game of thrones \\nbook one of a song of ice and fire \\nby george r. r. martin \\nprologue \\n\"we should start back,\" gared urged as the woods began to grow dark around them. \"the wildlings are \\ndead.\" \\n\"do the dead frighten you?\" ser waymar royce asked with just the hint of a smile. \\ngared did not rise to the bait. he was an old man, past fifty, and he had seen the lordlings come and go. \\n\"dead is dead,\" he said. \"we have no business with the dead.\" \\n\"are they dead?\" royce asked softly. \"what proof '"
      ]
     },
     "execution_count": 1,
     "metadata": {},
     "output_type": "execute_result"
    }
   ],
   "source": [
    "import os\n",
    "path = r\"C:\\Users\\rezaa\\Desktop\\archive\"\n",
    "file_list = os.listdir(path)\n",
    "story = ''\n",
    "for each_file in file_list:\n",
    "    with open (f\"./Desktop/archive/{each_file}\") as file:\n",
    "        data = file.read().lower()\n",
    "        story += data\n",
    "story[:500]"
   ]
  },
  {
   "cell_type": "markdown",
   "id": "fa4273ed",
   "metadata": {},
   "source": [
    "3. We use gensim method called remove_stopwords as it is very efficient in removing stopwords"
   ]
  },
  {
   "cell_type": "code",
   "execution_count": 2,
   "id": "86328a1f",
   "metadata": {},
   "outputs": [
    {
     "data": {
      "text/plain": [
       "'game thrones book song ice george r. r. martin prologue \"we start back,\" gared urged woods began grow dark them. \"the wildlings dead.\" \"do dead frighten you?\" ser waymar royce asked hint smile. gared rise bait. old man, past fifty, seen lordlings come go. \"dead dead,\" said. \"we business dead.\" \"are dead?\" royce asked softly. \"what proof we?\" \"will saw them,\" gared said. \"if says dead, that\\'s proof me.\" known drag quarrel sooner later. wished later sooner. \"my mother told dead men sing songs,\" in'"
      ]
     },
     "execution_count": 2,
     "metadata": {},
     "output_type": "execute_result"
    }
   ],
   "source": [
    "from gensim.parsing.preprocessing import remove_stopwords\n",
    "story = remove_stopwords(story)\n",
    "story[:500]"
   ]
  },
  {
   "cell_type": "markdown",
   "id": "52674c92",
   "metadata": {},
   "source": [
    "4. We then tokenize each sentence so that we can apply simple_preprocessing"
   ]
  },
  {
   "cell_type": "code",
   "execution_count": 3,
   "id": "5d4bc258",
   "metadata": {},
   "outputs": [
    {
     "data": {
      "text/plain": [
       "['game thrones book song ice george r. r. martin prologue \"we start back,\" gared urged woods began grow dark them.',\n",
       " '\"the wildlings dead.\"',\n",
       " '\"do dead frighten you?\"',\n",
       " 'ser waymar royce asked hint smile.',\n",
       " 'gared rise bait.',\n",
       " 'old man, past fifty, seen lordlings come go.',\n",
       " '\"dead dead,\" said.',\n",
       " '\"we business dead.\"',\n",
       " '\"are dead?\"',\n",
       " 'royce asked softly.']"
      ]
     },
     "execution_count": 3,
     "metadata": {},
     "output_type": "execute_result"
    }
   ],
   "source": [
    "from nltk import sent_tokenize\n",
    "story = sent_tokenize(story)\n",
    "story[:10]"
   ]
  },
  {
   "cell_type": "markdown",
   "id": "a6d512f9",
   "metadata": {},
   "source": [
    "5. Simple_preprocessing requires tokenized sentences as input and the output is word tokenize"
   ]
  },
  {
   "cell_type": "code",
   "execution_count": 4,
   "id": "b4ecdbcc",
   "metadata": {},
   "outputs": [
    {
     "data": {
      "text/plain": [
       "[['game',\n",
       "  'thrones',\n",
       "  'book',\n",
       "  'song',\n",
       "  'ice',\n",
       "  'george',\n",
       "  'martin',\n",
       "  'prologue',\n",
       "  'we',\n",
       "  'start',\n",
       "  'back',\n",
       "  'gared',\n",
       "  'urged',\n",
       "  'woods',\n",
       "  'began',\n",
       "  'grow',\n",
       "  'dark',\n",
       "  'them'],\n",
       " ['the', 'wildlings', 'dead'],\n",
       " ['do', 'dead', 'frighten', 'you'],\n",
       " ['ser', 'waymar', 'royce', 'asked', 'hint', 'smile'],\n",
       " ['gared', 'rise', 'bait'],\n",
       " ['old', 'man', 'past', 'fifty', 'seen', 'lordlings', 'come', 'go'],\n",
       " ['dead', 'dead', 'said'],\n",
       " ['we', 'business', 'dead'],\n",
       " ['are', 'dead'],\n",
       " ['royce', 'asked', 'softly']]"
      ]
     },
     "execution_count": 4,
     "metadata": {},
     "output_type": "execute_result"
    }
   ],
   "source": [
    "from gensim.utils import simple_preprocess\n",
    "story_update = []\n",
    "for sent in story:\n",
    "    story_update.append(simple_preprocess(sent))\n",
    "story_update[:10]"
   ]
  },
  {
   "cell_type": "markdown",
   "id": "b626f25b",
   "metadata": {},
   "source": [
    "### First we train the model "
   ]
  },
  {
   "cell_type": "code",
   "execution_count": 5,
   "id": "1f86dc3e",
   "metadata": {
    "scrolled": true
   },
   "outputs": [
    {
     "data": {
      "text/plain": [
       "(4388610, 4537925)"
      ]
     },
     "execution_count": 5,
     "metadata": {},
     "output_type": "execute_result"
    }
   ],
   "source": [
    "from gensim.models import Word2Vec\n",
    "model = Word2Vec(sentences=story_update, vector_size=100, window=5, min_count=1, workers=4)\n",
    "model.build_vocab(story_update)\n",
    "model.train(story_update, total_examples=model.corpus_count, epochs=model.epochs)"
   ]
  },
  {
   "cell_type": "markdown",
   "id": "d44ef24f",
   "metadata": {},
   "source": [
    "#### Finding similar words "
   ]
  },
  {
   "cell_type": "code",
   "execution_count": 6,
   "id": "480c357b",
   "metadata": {},
   "outputs": [
    {
     "data": {
      "text/plain": [
       "[('dragons', 0.6404169797897339),\n",
       " ('brains', 0.6011684536933899),\n",
       " ('dothrak', 0.5870971083641052),\n",
       " ('aegon', 0.5832668542861938),\n",
       " ('crown', 0.5812475681304932),\n",
       " ('representing', 0.5771254301071167),\n",
       " ('stag', 0.5762042999267578),\n",
       " ('pus', 0.5751556158065796),\n",
       " ('basilisk', 0.5686959624290466),\n",
       " ('targaryen', 0.5686072111129761)]"
      ]
     },
     "execution_count": 6,
     "metadata": {},
     "output_type": "execute_result"
    }
   ],
   "source": [
    "similar_words = model.wv.most_similar('dragon')\n",
    "similar_words"
   ]
  },
  {
   "cell_type": "markdown",
   "id": "f7b5d67a",
   "metadata": {},
   "source": [
    "#### Finding vector of each word "
   ]
  },
  {
   "cell_type": "code",
   "execution_count": 7,
   "id": "c456fd06",
   "metadata": {},
   "outputs": [
    {
     "data": {
      "text/plain": [
       "array([ 0.8932098 ,  0.4198481 ,  0.27546474,  0.03776285,  0.02175228,\n",
       "        0.20497489, -0.7773575 ,  1.1775765 , -0.578238  ,  0.09103923,\n",
       "        0.08330283, -0.58179116, -0.5093285 ,  1.2699273 ,  1.30167   ,\n",
       "       -0.53904563,  0.4913404 ,  0.2341057 , -0.02014115,  0.74679977,\n",
       "        0.84635025,  0.8059916 ,  0.08734256, -0.60105217,  0.06445137,\n",
       "        0.21283475,  0.5400728 , -0.26769736,  0.21232374, -0.5499789 ,\n",
       "        0.07936369,  0.16855317, -0.58067536, -0.29445884,  0.35307676,\n",
       "        0.17313826, -0.08015878, -0.30926928, -1.209362  , -1.5707222 ,\n",
       "        0.7549244 , -0.30093107, -0.6556581 ,  1.2819319 ,  0.94630164,\n",
       "       -0.7193925 , -1.2899014 , -0.1922533 , -0.21742578, -0.05111859,\n",
       "       -1.630144  , -1.1053007 , -0.19955777, -0.18827048,  0.04603759,\n",
       "        0.7518476 , -1.1574765 ,  0.23055592, -0.04636365,  1.1763182 ,\n",
       "       -0.19387819,  0.742983  ,  0.9241543 , -0.33490095, -0.8885722 ,\n",
       "       -0.02291221, -0.20728998,  0.8777483 ,  1.2759347 , -0.44480512,\n",
       "        0.39527988,  0.87239575,  0.16783704, -0.09548337,  1.0486279 ,\n",
       "        0.7588427 , -0.26359513, -0.49447155, -0.8977297 , -0.50847965,\n",
       "       -0.3510586 , -0.39191306, -0.03473593,  0.26561588,  0.03199765,\n",
       "        0.4491701 ,  0.20322882,  0.5457057 ,  0.19768968, -0.11794821,\n",
       "       -0.1554417 , -0.36268187,  0.10652546,  0.83681047,  0.5818    ,\n",
       "        0.56186   ,  0.25992   , -0.8411645 ,  0.68407637, -0.8794678 ],\n",
       "      dtype=float32)"
      ]
     },
     "execution_count": 7,
     "metadata": {},
     "output_type": "execute_result"
    }
   ],
   "source": [
    "vector = model.wv['dragon']\n",
    "vector"
   ]
  },
  {
   "cell_type": "code",
   "execution_count": null,
   "id": "019abd24",
   "metadata": {},
   "outputs": [],
   "source": []
  }
 ],
 "metadata": {
  "kernelspec": {
   "display_name": "Python 3 (ipykernel)",
   "language": "python",
   "name": "python3"
  },
  "language_info": {
   "codemirror_mode": {
    "name": "ipython",
    "version": 3
   },
   "file_extension": ".py",
   "mimetype": "text/x-python",
   "name": "python",
   "nbconvert_exporter": "python",
   "pygments_lexer": "ipython3",
   "version": "3.11.5"
  }
 },
 "nbformat": 4,
 "nbformat_minor": 5
}
