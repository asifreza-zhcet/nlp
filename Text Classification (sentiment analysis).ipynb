{
 "cells": [
  {
   "cell_type": "markdown",
   "id": "26f24ce7",
   "metadata": {},
   "source": [
    "# Text Classification using\n",
    "## 1. Bag of words\n",
    "## 2. TfIdf"
   ]
  },
  {
   "cell_type": "markdown",
   "id": "ba192446",
   "metadata": {},
   "source": [
    "### Reading the data and taking a sample out of it because training it will take time"
   ]
  },
  {
   "cell_type": "code",
   "execution_count": 1,
   "id": "ffe9ca0d",
   "metadata": {},
   "outputs": [
    {
     "data": {
      "text/html": [
       "<div>\n",
       "<style scoped>\n",
       "    .dataframe tbody tr th:only-of-type {\n",
       "        vertical-align: middle;\n",
       "    }\n",
       "\n",
       "    .dataframe tbody tr th {\n",
       "        vertical-align: top;\n",
       "    }\n",
       "\n",
       "    .dataframe thead th {\n",
       "        text-align: right;\n",
       "    }\n",
       "</style>\n",
       "<table border=\"1\" class=\"dataframe\">\n",
       "  <thead>\n",
       "    <tr style=\"text-align: right;\">\n",
       "      <th></th>\n",
       "      <th>review</th>\n",
       "      <th>sentiment</th>\n",
       "    </tr>\n",
       "  </thead>\n",
       "  <tbody>\n",
       "    <tr>\n",
       "      <th>36236</th>\n",
       "      <td>Largely dense road movie with some comic relie...</td>\n",
       "      <td>negative</td>\n",
       "    </tr>\n",
       "    <tr>\n",
       "      <th>10905</th>\n",
       "      <td>I just saw this at the 2006 Vancouver internat...</td>\n",
       "      <td>negative</td>\n",
       "    </tr>\n",
       "    <tr>\n",
       "      <th>49543</th>\n",
       "      <td>the acting is good.thats the positives out of ...</td>\n",
       "      <td>negative</td>\n",
       "    </tr>\n",
       "    <tr>\n",
       "      <th>4673</th>\n",
       "      <td>Watched this film at a local festival, the Sil...</td>\n",
       "      <td>positive</td>\n",
       "    </tr>\n",
       "    <tr>\n",
       "      <th>34789</th>\n",
       "      <td>Universal studios. The name conjures up so man...</td>\n",
       "      <td>positive</td>\n",
       "    </tr>\n",
       "  </tbody>\n",
       "</table>\n",
       "</div>"
      ],
      "text/plain": [
       "                                                  review sentiment\n",
       "36236  Largely dense road movie with some comic relie...  negative\n",
       "10905  I just saw this at the 2006 Vancouver internat...  negative\n",
       "49543  the acting is good.thats the positives out of ...  negative\n",
       "4673   Watched this film at a local festival, the Sil...  positive\n",
       "34789  Universal studios. The name conjures up so man...  positive"
      ]
     },
     "execution_count": 1,
     "metadata": {},
     "output_type": "execute_result"
    }
   ],
   "source": [
    "import pandas as pd\n",
    "\n",
    "temp_df = pd.read_csv(r\"C:\\Users\\rezaa\\Desktop\\IMDB Dataset.csv\")\n",
    "df = temp_df.sample(10000)\n",
    "df.head()"
   ]
  },
  {
   "cell_type": "markdown",
   "id": "136da5f5",
   "metadata": {},
   "source": [
    "### Counting the negative and positive reviews so that the data is not unbalanced"
   ]
  },
  {
   "cell_type": "code",
   "execution_count": 2,
   "id": "4318f891",
   "metadata": {},
   "outputs": [
    {
     "data": {
      "text/plain": [
       "sentiment\n",
       "negative    5049\n",
       "positive    4951\n",
       "Name: count, dtype: int64"
      ]
     },
     "execution_count": 2,
     "metadata": {},
     "output_type": "execute_result"
    }
   ],
   "source": [
    "df.sentiment.value_counts()"
   ]
  },
  {
   "cell_type": "markdown",
   "id": "bbf1dd74",
   "metadata": {},
   "source": [
    "### Checking if there is any null value"
   ]
  },
  {
   "cell_type": "code",
   "execution_count": 3,
   "id": "c46deb81",
   "metadata": {},
   "outputs": [
    {
     "data": {
      "text/plain": [
       "review       0\n",
       "sentiment    0\n",
       "dtype: int64"
      ]
     },
     "execution_count": 3,
     "metadata": {},
     "output_type": "execute_result"
    }
   ],
   "source": [
    "df.isnull().sum()"
   ]
  },
  {
   "cell_type": "markdown",
   "id": "2b4d4061",
   "metadata": {},
   "source": [
    "### Removing duplicate values"
   ]
  },
  {
   "cell_type": "code",
   "execution_count": 4,
   "id": "d836d74f",
   "metadata": {},
   "outputs": [],
   "source": [
    "df.drop_duplicates(inplace=True)"
   ]
  },
  {
   "cell_type": "markdown",
   "id": "38d4b55c",
   "metadata": {},
   "source": [
    "### Removing html tags using Beautifulsoup as it is much easier"
   ]
  },
  {
   "cell_type": "code",
   "execution_count": 5,
   "id": "ce7b79a0",
   "metadata": {},
   "outputs": [
    {
     "name": "stderr",
     "output_type": "stream",
     "text": [
      "C:\\Users\\rezaa\\AppData\\Local\\Temp\\ipykernel_19876\\4258978529.py:4: MarkupResemblesLocatorWarning: The input looks more like a filename than markup. You may want to open this file and pass the filehandle into Beautiful Soup.\n",
      "  df['review'] = df.review.apply(lambda x : BeautifulSoup(x, \"lxml\").text)\n"
     ]
    }
   ],
   "source": [
    "#removing html tags\n",
    "\n",
    "from bs4 import BeautifulSoup\n",
    "df['review'] = df.review.apply(lambda x : BeautifulSoup(x, \"lxml\").text)\n"
   ]
  },
  {
   "cell_type": "code",
   "execution_count": 6,
   "id": "040dc64e",
   "metadata": {},
   "outputs": [
    {
     "data": {
      "text/html": [
       "<div>\n",
       "<style scoped>\n",
       "    .dataframe tbody tr th:only-of-type {\n",
       "        vertical-align: middle;\n",
       "    }\n",
       "\n",
       "    .dataframe tbody tr th {\n",
       "        vertical-align: top;\n",
       "    }\n",
       "\n",
       "    .dataframe thead th {\n",
       "        text-align: right;\n",
       "    }\n",
       "</style>\n",
       "<table border=\"1\" class=\"dataframe\">\n",
       "  <thead>\n",
       "    <tr style=\"text-align: right;\">\n",
       "      <th></th>\n",
       "      <th>review</th>\n",
       "      <th>sentiment</th>\n",
       "    </tr>\n",
       "  </thead>\n",
       "  <tbody>\n",
       "    <tr>\n",
       "      <th>36236</th>\n",
       "      <td>Largely dense road movie with some comic relie...</td>\n",
       "      <td>negative</td>\n",
       "    </tr>\n",
       "    <tr>\n",
       "      <th>10905</th>\n",
       "      <td>I just saw this at the 2006 Vancouver internat...</td>\n",
       "      <td>negative</td>\n",
       "    </tr>\n",
       "    <tr>\n",
       "      <th>49543</th>\n",
       "      <td>the acting is good.thats the positives out of ...</td>\n",
       "      <td>negative</td>\n",
       "    </tr>\n",
       "    <tr>\n",
       "      <th>4673</th>\n",
       "      <td>Watched this film at a local festival, the Sil...</td>\n",
       "      <td>positive</td>\n",
       "    </tr>\n",
       "    <tr>\n",
       "      <th>34789</th>\n",
       "      <td>Universal studios. The name conjures up so man...</td>\n",
       "      <td>positive</td>\n",
       "    </tr>\n",
       "  </tbody>\n",
       "</table>\n",
       "</div>"
      ],
      "text/plain": [
       "                                                  review sentiment\n",
       "36236  Largely dense road movie with some comic relie...  negative\n",
       "10905  I just saw this at the 2006 Vancouver internat...  negative\n",
       "49543  the acting is good.thats the positives out of ...  negative\n",
       "4673   Watched this film at a local festival, the Sil...  positive\n",
       "34789  Universal studios. The name conjures up so man...  positive"
      ]
     },
     "execution_count": 6,
     "metadata": {},
     "output_type": "execute_result"
    }
   ],
   "source": [
    "df.head()"
   ]
  },
  {
   "cell_type": "markdown",
   "id": "78b39fa9",
   "metadata": {},
   "source": [
    "### Changing it into lower case"
   ]
  },
  {
   "cell_type": "code",
   "execution_count": 7,
   "id": "d09a916d",
   "metadata": {},
   "outputs": [
    {
     "data": {
      "text/html": [
       "<div>\n",
       "<style scoped>\n",
       "    .dataframe tbody tr th:only-of-type {\n",
       "        vertical-align: middle;\n",
       "    }\n",
       "\n",
       "    .dataframe tbody tr th {\n",
       "        vertical-align: top;\n",
       "    }\n",
       "\n",
       "    .dataframe thead th {\n",
       "        text-align: right;\n",
       "    }\n",
       "</style>\n",
       "<table border=\"1\" class=\"dataframe\">\n",
       "  <thead>\n",
       "    <tr style=\"text-align: right;\">\n",
       "      <th></th>\n",
       "      <th>review</th>\n",
       "      <th>sentiment</th>\n",
       "    </tr>\n",
       "  </thead>\n",
       "  <tbody>\n",
       "    <tr>\n",
       "      <th>36236</th>\n",
       "      <td>largely dense road movie with some comic relie...</td>\n",
       "      <td>negative</td>\n",
       "    </tr>\n",
       "    <tr>\n",
       "      <th>10905</th>\n",
       "      <td>i just saw this at the 2006 vancouver internat...</td>\n",
       "      <td>negative</td>\n",
       "    </tr>\n",
       "    <tr>\n",
       "      <th>49543</th>\n",
       "      <td>the acting is good.thats the positives out of ...</td>\n",
       "      <td>negative</td>\n",
       "    </tr>\n",
       "    <tr>\n",
       "      <th>4673</th>\n",
       "      <td>watched this film at a local festival, the sil...</td>\n",
       "      <td>positive</td>\n",
       "    </tr>\n",
       "    <tr>\n",
       "      <th>34789</th>\n",
       "      <td>universal studios. the name conjures up so man...</td>\n",
       "      <td>positive</td>\n",
       "    </tr>\n",
       "  </tbody>\n",
       "</table>\n",
       "</div>"
      ],
      "text/plain": [
       "                                                  review sentiment\n",
       "36236  largely dense road movie with some comic relie...  negative\n",
       "10905  i just saw this at the 2006 vancouver internat...  negative\n",
       "49543  the acting is good.thats the positives out of ...  negative\n",
       "4673   watched this film at a local festival, the sil...  positive\n",
       "34789  universal studios. the name conjures up so man...  positive"
      ]
     },
     "execution_count": 7,
     "metadata": {},
     "output_type": "execute_result"
    }
   ],
   "source": [
    "df['review'] = df.review.apply(lambda x : x.lower())\n",
    "df.head()"
   ]
  },
  {
   "cell_type": "markdown",
   "id": "f8a171e3",
   "metadata": {},
   "source": [
    "### Spliting the data into input array 'X' and output array 'y'"
   ]
  },
  {
   "cell_type": "code",
   "execution_count": 8,
   "id": "b500fa91",
   "metadata": {},
   "outputs": [],
   "source": [
    "X = df.review\n",
    "y = df.sentiment"
   ]
  },
  {
   "cell_type": "markdown",
   "id": "c1cc3fb7",
   "metadata": {},
   "source": [
    "### Using simple_preprocess from gensim library as it is very easy to implement"
   ]
  },
  {
   "cell_type": "code",
   "execution_count": 9,
   "id": "821aed1e",
   "metadata": {},
   "outputs": [
    {
     "data": {
      "text/plain": [
       "36236    [largely, dense, road, movie, with, some, comi...\n",
       "10905    [just, saw, this, at, the, vancouver, internat...\n",
       "49543    [the, acting, is, good, thats, the, positives,...\n",
       "4673     [watched, this, film, at, local, festival, the...\n",
       "34789    [universal, studios, the, name, conjures, up, ...\n",
       "Name: review, dtype: object"
      ]
     },
     "execution_count": 9,
     "metadata": {},
     "output_type": "execute_result"
    }
   ],
   "source": [
    "from gensim.utils import simple_preprocess\n",
    "X = X.apply(lambda x: simple_preprocess(x))\n",
    "X.head()"
   ]
  },
  {
   "cell_type": "markdown",
   "id": "4cd88a68",
   "metadata": {},
   "source": [
    "### As simple_preprocess uses word tokenize and Count Vectorize uses sent tokenize so joined the word tokenize"
   ]
  },
  {
   "cell_type": "code",
   "execution_count": 10,
   "id": "8618365c",
   "metadata": {},
   "outputs": [
    {
     "data": {
      "text/plain": [
       "36236    largely dense road movie with some comic relie...\n",
       "10905    just saw this at the vancouver international f...\n",
       "49543    the acting is good thats the positives out of ...\n",
       "4673     watched this film at local festival the silver...\n",
       "34789    universal studios the name conjures up so many...\n",
       "Name: review, dtype: object"
      ]
     },
     "execution_count": 10,
     "metadata": {},
     "output_type": "execute_result"
    }
   ],
   "source": [
    "X = X.apply(lambda x: ' '.join(x))\n",
    "X.head()"
   ]
  },
  {
   "cell_type": "markdown",
   "id": "1e151a07",
   "metadata": {},
   "source": [
    "### Using label encoder on output"
   ]
  },
  {
   "cell_type": "code",
   "execution_count": 11,
   "id": "94388a1d",
   "metadata": {},
   "outputs": [
    {
     "data": {
      "text/plain": [
       "36236    negative\n",
       "10905    negative\n",
       "49543    negative\n",
       "4673     positive\n",
       "34789    positive\n",
       "           ...   \n",
       "48239    positive\n",
       "23418    positive\n",
       "22773    positive\n",
       "15390    positive\n",
       "23271    positive\n",
       "Name: sentiment, Length: 9979, dtype: object"
      ]
     },
     "execution_count": 11,
     "metadata": {},
     "output_type": "execute_result"
    }
   ],
   "source": [
    "y"
   ]
  },
  {
   "cell_type": "code",
   "execution_count": 27,
   "id": "957ea96e",
   "metadata": {},
   "outputs": [
    {
     "data": {
      "text/plain": [
       "array([[0],\n",
       "       [0],\n",
       "       [0],\n",
       "       ...,\n",
       "       [1],\n",
       "       [1],\n",
       "       [1]], dtype=int64)"
      ]
     },
     "execution_count": 27,
     "metadata": {},
     "output_type": "execute_result"
    }
   ],
   "source": [
    "from sklearn.preprocessing import LabelEncoder\n",
    "le = LabelEncoder()\n",
    "y = le.fit_transform(y)\n",
    "y = y.reshape(-1,1)\n",
    "y"
   ]
  },
  {
   "cell_type": "markdown",
   "id": "833441d6",
   "metadata": {},
   "source": [
    "### Using train test split"
   ]
  },
  {
   "cell_type": "code",
   "execution_count": 42,
   "id": "21d32f9e",
   "metadata": {},
   "outputs": [],
   "source": [
    "from sklearn.model_selection import train_test_split\n",
    "X_train, X_test, y_train, y_test = train_test_split(X, y, test_size=0.20, random_state=1)"
   ]
  },
  {
   "cell_type": "markdown",
   "id": "5ccb574f",
   "metadata": {},
   "source": [
    "## 1. Using count_vectorise for bag_of_words"
   ]
  },
  {
   "cell_type": "code",
   "execution_count": 43,
   "id": "d9846f17",
   "metadata": {},
   "outputs": [
    {
     "data": {
      "text/plain": [
       "array([[0, 0, 0, ..., 0, 0, 0],\n",
       "       [0, 0, 0, ..., 0, 0, 0],\n",
       "       [0, 0, 0, ..., 0, 0, 0],\n",
       "       ...,\n",
       "       [0, 0, 0, ..., 0, 0, 0],\n",
       "       [0, 0, 0, ..., 0, 0, 0],\n",
       "       [0, 0, 0, ..., 0, 0, 0]], dtype=int64)"
      ]
     },
     "execution_count": 43,
     "metadata": {},
     "output_type": "execute_result"
    }
   ],
   "source": [
    "from sklearn.feature_extraction.text import CountVectorizer\n",
    "cv = CountVectorizer()\n",
    "X_train_cv = cv.fit_transform(X_train).toarray()\n",
    "X_test_cv = cv.transform(X_test).toarray()\n",
    "X_train_cv"
   ]
  },
  {
   "cell_type": "markdown",
   "id": "82b24adf",
   "metadata": {},
   "source": [
    "### Using Naive Bayes for training data"
   ]
  },
  {
   "cell_type": "code",
   "execution_count": 44,
   "id": "1a4e52f5",
   "metadata": {},
   "outputs": [
    {
     "name": "stderr",
     "output_type": "stream",
     "text": [
      "C:\\Users\\rezaa\\anaconda3\\Lib\\site-packages\\sklearn\\utils\\validation.py:1184: DataConversionWarning: A column-vector y was passed when a 1d array was expected. Please change the shape of y to (n_samples, ), for example using ravel().\n",
      "  y = column_or_1d(y, warn=True)\n"
     ]
    }
   ],
   "source": [
    "from sklearn.naive_bayes import BernoulliNB\n",
    "nb = BernoulliNB()\n",
    "nb.fit(X_train_cv, y_train)\n",
    "y_pred_nb = nb.predict(X_test_cv)"
   ]
  },
  {
   "cell_type": "code",
   "execution_count": 45,
   "id": "e77ad03a",
   "metadata": {},
   "outputs": [],
   "source": [
    "from sklearn.metrics import accuracy_score, confusion_matrix\n",
    "#on train data\n",
    "ac = accuracy_score(y_test, y_pred_nb)\n",
    "cm = confusion_matrix(y_test, y_pred_nb)"
   ]
  },
  {
   "cell_type": "code",
   "execution_count": 46,
   "id": "c4dade3b",
   "metadata": {},
   "outputs": [
    {
     "name": "stdout",
     "output_type": "stream",
     "text": [
      "0.8491983967935872\n"
     ]
    }
   ],
   "source": [
    "print(ac)"
   ]
  },
  {
   "cell_type": "code",
   "execution_count": 47,
   "id": "750c676f",
   "metadata": {},
   "outputs": [
    {
     "name": "stdout",
     "output_type": "stream",
     "text": [
      "[[880 114]\n",
      " [187 815]]\n"
     ]
    }
   ],
   "source": [
    "print(cm)"
   ]
  },
  {
   "cell_type": "markdown",
   "id": "df66780e",
   "metadata": {},
   "source": [
    "### Using RandomForest"
   ]
  },
  {
   "cell_type": "code",
   "execution_count": 48,
   "id": "a573fb8c",
   "metadata": {},
   "outputs": [
    {
     "name": "stderr",
     "output_type": "stream",
     "text": [
      "C:\\Users\\rezaa\\anaconda3\\Lib\\site-packages\\sklearn\\base.py:1151: DataConversionWarning: A column-vector y was passed when a 1d array was expected. Please change the shape of y to (n_samples,), for example using ravel().\n",
      "  return fit_method(estimator, *args, **kwargs)\n"
     ]
    }
   ],
   "source": [
    "from sklearn.ensemble import RandomForestClassifier\n",
    "rf = RandomForestClassifier()\n",
    "rf.fit(X_train_cv, y_train)\n",
    "y_pred_rf = rf.predict(X_test_cv)"
   ]
  },
  {
   "cell_type": "code",
   "execution_count": 49,
   "id": "45ed8214",
   "metadata": {},
   "outputs": [
    {
     "name": "stdout",
     "output_type": "stream",
     "text": [
      "0.8361723446893787\n",
      "[[861 133]\n",
      " [194 808]]\n"
     ]
    }
   ],
   "source": [
    "#on test data\n",
    "ac = accuracy_score(y_test, y_pred_rf)\n",
    "cm = confusion_matrix(y_test, y_pred_rf)\n",
    "print(ac)\n",
    "print(cm)"
   ]
  },
  {
   "cell_type": "markdown",
   "id": "f2138ac2",
   "metadata": {},
   "source": [
    "## 2. Using TfIdf to vectorise"
   ]
  },
  {
   "cell_type": "code",
   "execution_count": 63,
   "id": "19281757",
   "metadata": {
    "scrolled": true
   },
   "outputs": [
    {
     "data": {
      "text/plain": [
       "array([[0., 0., 0., ..., 0., 0., 0.],\n",
       "       [0., 0., 0., ..., 0., 0., 0.],\n",
       "       [0., 0., 0., ..., 0., 0., 0.],\n",
       "       ...,\n",
       "       [0., 0., 0., ..., 0., 0., 0.],\n",
       "       [0., 0., 0., ..., 0., 0., 0.],\n",
       "       [0., 0., 0., ..., 0., 0., 0.]])"
      ]
     },
     "execution_count": 63,
     "metadata": {},
     "output_type": "execute_result"
    }
   ],
   "source": [
    "from sklearn.feature_extraction.text import TfidfVectorizer\n",
    "tf = TfidfVectorizer()\n",
    "X_train_tf = tf.fit_transform(X_train).toarray()\n",
    "X_test_tf = tf.transform(X_test).toarray()\n",
    "X_train_tf"
   ]
  },
  {
   "cell_type": "markdown",
   "id": "5d5c4e9b",
   "metadata": {},
   "source": [
    "### Using RandomForest"
   ]
  },
  {
   "cell_type": "code",
   "execution_count": 74,
   "id": "33d8c49f",
   "metadata": {},
   "outputs": [
    {
     "name": "stderr",
     "output_type": "stream",
     "text": [
      "C:\\Users\\rezaa\\anaconda3\\Lib\\site-packages\\sklearn\\base.py:1151: DataConversionWarning: A column-vector y was passed when a 1d array was expected. Please change the shape of y to (n_samples,), for example using ravel().\n",
      "  return fit_method(estimator, *args, **kwargs)\n"
     ]
    }
   ],
   "source": [
    "rf2 = RandomForestClassifier()\n",
    "rf2.fit(X_train_tf, y_train)\n",
    "y_pred_rf2 = rf2.predict(X_test_tf)"
   ]
  },
  {
   "cell_type": "code",
   "execution_count": 75,
   "id": "d7e05011",
   "metadata": {},
   "outputs": [
    {
     "name": "stdout",
     "output_type": "stream",
     "text": [
      "0.8306613226452906\n",
      "[[867 127]\n",
      " [211 791]]\n"
     ]
    }
   ],
   "source": [
    "#on test data\n",
    "ac_rf = accuracy_score(y_test, y_pred_rf2)\n",
    "cm_rf = confusion_matrix(y_test, y_pred_rf2)\n",
    "print(ac_rf)\n",
    "print(cm_rf)"
   ]
  },
  {
   "cell_type": "markdown",
   "id": "098efb07",
   "metadata": {},
   "source": [
    "## 3. Using word2vec then average word2vec to vectorise each document"
   ]
  },
  {
   "cell_type": "markdown",
   "id": "f7a097e5",
   "metadata": {},
   "source": [
    "### Since html tags are removed and texts are lower cased now the stopwords are left to be removed"
   ]
  },
  {
   "cell_type": "code",
   "execution_count": 102,
   "id": "6698889c",
   "metadata": {},
   "outputs": [
    {
     "data": {
      "text/plain": [
       "36236    [largely, dense, road, movie, comic, relief, p...\n",
       "10905    [saw, vancouver, international, film, festival...\n",
       "49543    [acting, good, thats, positives, way, sosn, sh...\n",
       "4673     [watched, film, local, festival, silver, sproc...\n",
       "34789    [universal, studios, conjures, memories, horro...\n",
       "Name: review, dtype: object"
      ]
     },
     "execution_count": 102,
     "metadata": {},
     "output_type": "execute_result"
    }
   ],
   "source": [
    "from gensim.parsing.preprocessing import remove_stopwords\n",
    "from nltk.tokenize import word_tokenize\n",
    "X_new = X.apply(lambda x: remove_stopwords(x))\n",
    "X_new = X_new.apply(lambda x: word_tokenize(x))\n",
    "X_new.head()"
   ]
  },
  {
   "cell_type": "markdown",
   "id": "c42d865f",
   "metadata": {},
   "source": [
    "### Training a model to vectorise each word using Word2vec technique"
   ]
  },
  {
   "cell_type": "code",
   "execution_count": 105,
   "id": "0571403e",
   "metadata": {},
   "outputs": [
    {
     "data": {
      "text/plain": [
       "(4916542, 5100210)"
      ]
     },
     "execution_count": 105,
     "metadata": {},
     "output_type": "execute_result"
    }
   ],
   "source": [
    "from gensim.models import Word2Vec\n",
    "model = Word2Vec(sentences=X_new, vector_size=100, window=5, min_count=1, workers=4)\n",
    "model.build_vocab(X_new)\n",
    "model.train(X_new, total_examples=model.corpus_count, epochs=model.epochs)"
   ]
  },
  {
   "cell_type": "markdown",
   "id": "e02f2358",
   "metadata": {},
   "source": [
    "### Converting each element in row as average of all the vectors of the words"
   ]
  },
  {
   "cell_type": "code",
   "execution_count": 122,
   "id": "e153eb61",
   "metadata": {},
   "outputs": [
    {
     "data": {
      "text/plain": [
       "36236    [-0.065383434, 0.7738144, 0.42077214, 0.146440...\n",
       "10905    [-0.13664493, 0.3707316, 0.032249875, 0.254868...\n",
       "49543    [-0.33387658, 0.34524018, 0.07007837, -0.03389...\n",
       "4673     [-0.48977193, 0.70593643, 0.41908643, 0.408738...\n",
       "34789    [-0.18688276, 0.56751674, 0.23258784, 0.220401...\n",
       "                               ...                        \n",
       "48239    [-0.31897798, 0.65793484, 0.40024328, 0.359653...\n",
       "23418    [-0.088541485, 0.38024762, 0.22750792, 0.04591...\n",
       "22773    [-0.2347524, 0.36040795, 0.1202022, 0.16945086...\n",
       "15390    [-0.11057853, 0.44843295, 0.052475844, 0.04737...\n",
       "23271    [-0.22245479, 0.43733826, 0.15206936, 0.049067...\n",
       "Name: review, Length: 9979, dtype: object"
      ]
     },
     "execution_count": 122,
     "metadata": {},
     "output_type": "execute_result"
    }
   ],
   "source": [
    "sent_vec = X_new.apply(lambda x : np.mean([model.wv[word] for word in x], axis=0))\n",
    "sent_vec"
   ]
  },
  {
   "cell_type": "markdown",
   "id": "61fb90ee",
   "metadata": {},
   "source": [
    "### Converting the above series into a 2d numpy array as it was getting converted into array(array([....] ,array[...], ...) instead of array([.....],[.....],....)"
   ]
  },
  {
   "cell_type": "code",
   "execution_count": 146,
   "id": "09439b73",
   "metadata": {
    "scrolled": true
   },
   "outputs": [
    {
     "data": {
      "text/plain": [
       "array([[-0.06538343,  0.7738144 ,  0.42077214, ..., -0.62768596,\n",
       "        -0.31341848, -0.16729462],\n",
       "       [-0.13664493,  0.3707316 ,  0.03224988, ..., -0.84445596,\n",
       "        -0.2669913 , -0.11907455],\n",
       "       [-0.33387658,  0.34524018,  0.07007837, ..., -0.7996561 ,\n",
       "         0.04867775, -0.08257327],\n",
       "       ...,\n",
       "       [-0.2347524 ,  0.36040795,  0.1202022 , ..., -0.5337785 ,\n",
       "         0.08287903, -0.04043095],\n",
       "       [-0.11057853,  0.44843295,  0.05247584, ..., -0.39425895,\n",
       "         0.05725573,  0.12360921],\n",
       "       [-0.22245479,  0.43733826,  0.15206936, ..., -0.55844855,\n",
       "         0.14156538,  0.03606821]], dtype=float32)"
      ]
     },
     "execution_count": 146,
     "metadata": {},
     "output_type": "execute_result"
    }
   ],
   "source": [
    "X_vec = np.stack(sent_vec.tolist())\n",
    "X_vec"
   ]
  },
  {
   "cell_type": "markdown",
   "id": "7c3ff723",
   "metadata": {},
   "source": [
    "### Training in a random forest"
   ]
  },
  {
   "cell_type": "code",
   "execution_count": 147,
   "id": "24edc937",
   "metadata": {},
   "outputs": [
    {
     "name": "stderr",
     "output_type": "stream",
     "text": [
      "C:\\Users\\rezaa\\anaconda3\\Lib\\site-packages\\sklearn\\base.py:1151: DataConversionWarning: A column-vector y was passed when a 1d array was expected. Please change the shape of y to (n_samples,), for example using ravel().\n",
      "  return fit_method(estimator, *args, **kwargs)\n"
     ]
    },
    {
     "name": "stdout",
     "output_type": "stream",
     "text": [
      "0.7920841683366734\n",
      "[[784 210]\n",
      " [205 797]]\n"
     ]
    }
   ],
   "source": [
    "X_train_vec, X_test_vec, y_train_vec, y_test_vec = train_test_split(X_vec, y, test_size=0.20, random_state=1)\n",
    "rf3 = RandomForestClassifier()\n",
    "rf3.fit(X_train_vec, y_train_vec)\n",
    "y_pred_rf3 = rf3.predict(X_test_vec)\n",
    "ac_rf = accuracy_score(y_test_vec, y_pred_rf3)\n",
    "cm_rf = confusion_matrix(y_test_vec, y_pred_rf3)\n",
    "print(ac_rf)\n",
    "print(cm_rf)"
   ]
  },
  {
   "cell_type": "code",
   "execution_count": null,
   "id": "8752a164",
   "metadata": {},
   "outputs": [],
   "source": []
  }
 ],
 "metadata": {
  "kernelspec": {
   "display_name": "Python 3 (ipykernel)",
   "language": "python",
   "name": "python3"
  },
  "language_info": {
   "codemirror_mode": {
    "name": "ipython",
    "version": 3
   },
   "file_extension": ".py",
   "mimetype": "text/x-python",
   "name": "python",
   "nbconvert_exporter": "python",
   "pygments_lexer": "ipython3",
   "version": "3.11.5"
  }
 },
 "nbformat": 4,
 "nbformat_minor": 5
}
