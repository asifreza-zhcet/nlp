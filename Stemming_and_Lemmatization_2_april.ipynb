{
 "cells": [
  {
   "cell_type": "code",
   "execution_count": 1,
   "id": "3ade8ac5",
   "metadata": {},
   "outputs": [],
   "source": [
    "paragraph = '''AI, machine learning and deep learning are common terms in enterprise.\n",
    "                IT and sometimes used interchangeably, especially by companies in their marketing materials. \n",
    "                But there are distinctions. The term AI, coined in the 1950s, refers to the simulation of human \n",
    "                intelligence by machines. It covers an ever-changing set of capabilities as new technologies \n",
    "                are developed. Technologies that come under the umbrella of AI include machine learning and \n",
    "                deep learning. Machine learning enables software applications to become more accurate at \n",
    "                predicting outcomes without being explicitly programmed to do so. Machine learning algorithms \n",
    "                use historical data as input to predict new output values. This approach became vastly more \n",
    "                effective with the rise of large data sets to train on. Deep learning, a subset of machine \n",
    "                learning, is based on our understanding of how the brain is structured. Deep learning's \n",
    "                use of artificial neural networks structure is the underpinning of recent advances in AI, \n",
    "                including self-driving cars and ChatGPT.'''"
   ]
  },
  {
   "cell_type": "code",
   "execution_count": 2,
   "id": "27ef7088",
   "metadata": {},
   "outputs": [
    {
     "data": {
      "text/plain": [
       "['AI, machine learning and deep learning are common terms in enterprise.',\n",
       " 'IT and sometimes used interchangeably, especially by companies in their marketing materials.',\n",
       " 'But there are distinctions.',\n",
       " 'The term AI, coined in the 1950s, refers to the simulation of human \\n                intelligence by machines.',\n",
       " 'It covers an ever-changing set of capabilities as new technologies \\n                are developed.',\n",
       " 'Technologies that come under the umbrella of AI include machine learning and \\n                deep learning.',\n",
       " 'Machine learning enables software applications to become more accurate at \\n                predicting outcomes without being explicitly programmed to do so.',\n",
       " 'Machine learning algorithms \\n                use historical data as input to predict new output values.',\n",
       " 'This approach became vastly more \\n                effective with the rise of large data sets to train on.',\n",
       " 'Deep learning, a subset of machine \\n                learning, is based on our understanding of how the brain is structured.',\n",
       " \"Deep learning's \\n                use of artificial neural networks structure is the underpinning of recent advances in AI, \\n                including self-driving cars and ChatGPT.\"]"
      ]
     },
     "execution_count": 2,
     "metadata": {},
     "output_type": "execute_result"
    }
   ],
   "source": [
    "from nltk.tokenize import sent_tokenize\n",
    "sentences = sent_tokenize(paragraph)\n",
    "sentences"
   ]
  },
  {
   "cell_type": "code",
   "execution_count": 3,
   "id": "991d2991",
   "metadata": {
    "scrolled": true
   },
   "outputs": [],
   "source": [
    "from nltk.stem import PorterStemmer, WordNetLemmatizer\n",
    "ps = PorterStemmer()\n",
    "lm = WordNetLemmatizer()\n",
    "\n",
    "from nltk.corpus import stopwords\n",
    "stp = stopwords.words('english')"
   ]
  },
  {
   "cell_type": "markdown",
   "id": "b9e5dff8",
   "metadata": {},
   "source": [
    "### Porter Stemmer \n",
    "#### The following steps are followed :\n",
    "1. Sentence tokenization  \n",
    "eg, -The term AI, coined in the 1950s, refers to the simulation of human \\n                intelligence by machines.'\n",
    "Porter Stemmer  \n",
    "\n",
    "2. Word tokenization of each sentences  \n",
    "['The', 'term', 'AI', ',', 'coined', 'in', 'the', '1950s', ',', 'refers', 'to', 'the', 'simulation', 'of', 'human', 'intelligence', 'by', 'machines', '.']  \n",
    "\n",
    "3. Removing stop words (All words are converted to lower case as list of words in corpus.stopwords('english') are lower cased  \n",
    "['term', 'AI', ',', 'coined', '1950s', ',', 'refers', 'simulation', 'human', 'intelligence', 'machines', '.']  \n",
    "\n",
    "4. Stemming  \n",
    "['term', 'ai', ',', 'coin', '1950', ',', 'refer', 'simul', 'human', 'intellig', 'machin', '.']  \n",
    "\n",
    "5. Joining all the list words  \n",
    "term ai , coin 1950 , refer simul human intellig machin ."
   ]
  },
  {
   "cell_type": "code",
   "execution_count": 5,
   "id": "49286633",
   "metadata": {},
   "outputs": [
    {
     "data": {
      "text/plain": [
       "['ai , machin learn deep learn common term enterpris .',\n",
       " 'sometim use interchang , especi compani market materi .',\n",
       " 'distinct .',\n",
       " 'term ai , coin 1950 , refer simul human intellig machin .',\n",
       " 'cover ever-chang set capabl new technolog develop .',\n",
       " 'technolog come umbrella ai includ machin learn deep learn .',\n",
       " 'machin learn enabl softwar applic becom accur predict outcom without explicitli program .',\n",
       " 'machin learn algorithm use histor data input predict new output valu .',\n",
       " 'approach becam vastli effect rise larg data set train .',\n",
       " 'deep learn , subset machin learn , base understand brain structur .',\n",
       " \"deep learn 's use artifici neural network structur underpin recent advanc ai , includ self-driv car chatgpt .\"]"
      ]
     },
     "execution_count": 5,
     "metadata": {},
     "output_type": "execute_result"
    }
   ],
   "source": [
    "from nltk.tokenize import word_tokenize\n",
    "\n",
    "sentences_ps = []\n",
    "for sentence in sentences:\n",
    "    word_tkn_of_sent = word_tokenize(sentence)\n",
    "    stop_words_removed = [ps.stem(word) for word in word_tkn_of_sent if word.lower() not in stp]\n",
    "    sentences_ps += [' '.join(stop_words_removed)]\n",
    "sentences_ps"
   ]
  },
  {
   "cell_type": "markdown",
   "id": "e7f3f6eb",
   "metadata": {},
   "source": [
    "### Lemmatization \n",
    "#### Steps: Same as above except last step of lemmatization  \n",
    "term AI , coined 1950s , refers simulation human intelligence machine ."
   ]
  },
  {
   "cell_type": "code",
   "execution_count": 6,
   "id": "49da7d5f",
   "metadata": {},
   "outputs": [
    {
     "data": {
      "text/plain": [
       "['AI , machine learning deep learning common term enterprise .',\n",
       " 'IT sometimes used interchangeably , especially company marketing material .',\n",
       " 'But distinction .',\n",
       " 'The term AI , coined 1950s , refers simulation human intelligence machine .',\n",
       " 'It cover ever-changing set capability new technology developed .',\n",
       " 'Technologies come umbrella AI include machine learning deep learning .',\n",
       " 'Machine learning enables software application become accurate predicting outcome without explicitly programmed .',\n",
       " 'Machine learning algorithm use historical data input predict new output value .',\n",
       " 'This approach became vastly effective rise large data set train .',\n",
       " 'Deep learning , subset machine learning , based understanding brain structured .',\n",
       " \"Deep learning 's use artificial neural network structure underpinning recent advance AI , including self-driving car ChatGPT .\"]"
      ]
     },
     "execution_count": 6,
     "metadata": {},
     "output_type": "execute_result"
    }
   ],
   "source": [
    "sentences_lm = []\n",
    "for sentence in sentences:\n",
    "    word_tkn_of_sent = word_tokenize(sentence)\n",
    "    stop_words_removed = [lm.lemmatize(word) for word in word_tkn_of_sent if word not in stp]\n",
    "    sentences_lm += [' '.join(stop_words_removed)]\n",
    "sentences_lm"
   ]
  },
  {
   "cell_type": "code",
   "execution_count": null,
   "id": "0ba51f97",
   "metadata": {},
   "outputs": [],
   "source": []
  }
 ],
 "metadata": {
  "kernelspec": {
   "display_name": "Python 3 (ipykernel)",
   "language": "python",
   "name": "python3"
  },
  "language_info": {
   "codemirror_mode": {
    "name": "ipython",
    "version": 3
   },
   "file_extension": ".py",
   "mimetype": "text/x-python",
   "name": "python",
   "nbconvert_exporter": "python",
   "pygments_lexer": "ipython3",
   "version": "3.11.5"
  }
 },
 "nbformat": 4,
 "nbformat_minor": 5
}
