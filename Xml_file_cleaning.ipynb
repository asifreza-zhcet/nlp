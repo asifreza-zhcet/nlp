{
 "cells": [
  {
   "cell_type": "markdown",
   "id": "a95f0c35",
   "metadata": {},
   "source": [
    "# XML file parsing and cleaning"
   ]
  },
  {
   "cell_type": "markdown",
   "id": "46fcd5b8",
   "metadata": {},
   "source": [
    "## Loading the xml file in beautiful suop and parsing the data"
   ]
  },
  {
   "cell_type": "code",
   "execution_count": 1,
   "id": "f918793d",
   "metadata": {},
   "outputs": [
    {
     "name": "stdout",
     "output_type": "stream",
     "text": [
      "<bound method Tag.prettify of <?xml version=\"1.0\" encoding=\"utf-8\"?>\n",
      "<article xmlns:dctm=\"http://www.documentum.com\" xmlns:fmt=\"http://java.sun.com/jstl/fmt\" xmlns:jsp=\"jsp\" xmlns:xlink=\"http://www.w3.org/1999/xlink\">\n",
      "<front>\n",
      "<journal-meta>\n",
      "<journal-id journal-id-type=\"publication\">0901c7918047d0e2</journal-id>\n",
      "<journal-id journal-id-type=\"publisher\"/>\n",
      "<journal-title>Orphan Drug Approvals</journal-title>\n",
      "<abbrev-journal-title abbrev-type=\"publication\"/>\n",
      "<issn/>\n",
      "<publisher>\n",
      "<publisher-name>\n",
      "<p>WebMD, LLC</p>\n",
      "</publisher-name>\n",
      "</publisher>\n",
      "<notes notes-type=\"support-page\">\n",
      "<p>index</p>\n",
      "</notes>\n",
      "</journal-meta>\n",
      "<article-meta>\n",
      "<article-id>0901c79180555528</article-id>\n",
      "<article-categories>\n",
      "<subj-group>\n",
      "<subject>News Alert</subject>\n",
      "</subj-group>\n",
      "<series-title/>\n",
      "</article-categories>\n",
      "<title-group>\n",
      "<article-above-title/>\n",
      "<article-title>FDA Grants Orphan Drug Status to Gevokizumab</article-title>\n",
      "<subtitle/>\n",
      "<alt-title>The FDA has granted orphan drug designation to gevokizumab for the treatment of noninfectious intermediate uveitis, posterior uveitis, or panuveitis, or chronic noninfectious anterior uveitis.</alt-title>\n",
      "</title-group>\n",
      "<contrib-group>\n",
      "<contrib contrib-type=\"Journalist\">\n",
      "<name>\n",
      "<surname>Troy Brown</surname>\n",
      "</name>\n",
      "<role>Journalist</role>\n",
      "<bio>\n",
      "<p>Troy Brown is a freelance writer for Medscape.</p>\n",
      "</bio>\n",
      "<author-comment>\n",
      "<title>Disclosure</title>\n",
      "<p>Troy Brown has disclosed no relevant financial relationships.</p>\n",
      "</author-comment>\n",
      "<author-comment>\n",
      "<title>Title</title>\n",
      "<p/>\n",
      "</author-comment>\n",
      "</contrib>\n",
      "</contrib-group>\n",
      "<pub-date>\n",
      "<day>29</day>\n",
      "<month>08</month>\n",
      "<year>2012</year>\n",
      "</pub-date>\n",
      "<volume/>\n",
      "<issue/>\n",
      "<fpage/>\n",
      "<lpage/>\n",
      "<copyright-year/>\n",
      "<copyright-statement/>\n",
      "<kwd-group>\n",
      "<kwd>choroiditis,cyclitis,intermediate uveitis,orphan drugs,pars planitis,posterior uveitis</kwd>\n",
      "</kwd-group>\n",
      "<history>\n",
      "<date date-type=\"posting\">\n",
      "<day>29</day>\n",
      "<month>08</month>\n",
      "<year>2012</year>\n",
      "</date>\n",
      "</history>\n",
      "</article-meta>\n",
      "</front>\n",
      "<body>\n",
      "<sec sec-type=\"page\">\n",
      "<title/>\n",
      "<sec sec-type=\"Default\">\n",
      "<title/>\n",
      "<sec sec-type=\"section\">\n",
      "<title/>\n",
      "<p>August 29, 2012 â€” The US Food and Drug Administration (FDA) has granted orphan drug status to gevokizumab (<italic>Xoma 052</italic>, Xoma Corp), a monoclonal antibody that binds strongly to interleukin 1Î² (IL-1Î²), for the treatment of noninfectious intermediate uveitis, posterior uveitis, or panuveitis, or chronic noninfectious anterior uveitis.</p>\n",
      "<p>The Orphan Drug Act of 1983 was passed to encourage companies to develop treatments for rare diseases (diseases that affect fewer than 200,000 people in the United States). Because the market is so small, such treatments can be unprofitable to develop. Companies that develop orphan drugs receive a 50% tax credit for the cost of conducting human clinical trials, 7-year marketing exclusivity, and other incentives.</p>\n",
      "<p>BehÃ§et's disease is a rare multisystem disease that causes blood vessel inflammation throughout the body. Common symptoms are mouth sores, genital sores, and a type of panuveitis known as BehÃ§et's uveitis, an inflammation of the uvea, retina, and vitreous humor that can lead to retinal detachment, vitreous hemorrhage, glaucoma, and blindness.</p>\n",
      "<p>\"A genetic association has been shown between BehÃ§et's disease and the IL-1 gene cluster, and IL-1Î² has been implicated as a mediator in BehÃ§et's disease pathogenesis,\" Christine Kay, MD, the director of Retinal Clinical Research and the director of the Electrophysiology Service in the Vitreoretinal Division of the Department of Ophthalmology at the University of Florida in Gainesville, told <italic>Medscape Medical News</italic>. Dr. Kay is a clinical correspondent for the American Academy of Ophthalmology.</p>\n",
      "<p>\"Gevokizumab regulates the activation of IL-1 receptors and can be intravenously or subcutaneously administered,\" Dr. Kay added.</p>\n",
      "<p>Patients with BehÃ§et's uveitis have few treatment options. \"There are currently only 2 drugs FDA-approved for the treatment of chronic noninfectious intermediate, posterior, and panuveitis (<italic>Retisert</italic> [Bausch &amp; Lomb] and <italic>Ozurdex</italic> [Allergan]), and both are extended-release corticosteroid ocular implants,\" Dr. Kay said.</p>\n",
      "<p>Results of a proof-of-concept phase 2 trial of intravenous gevokizumab in 7 patients with BehÃ§et's uveitis were published in the April issue of the <italic>Annals of Rheumatic Diseases</italic>. In that trial patients were given a single infusion of gevokizumab (0.3 mg/kg), and all patients experienced complete reduction of intraocular inflammation in between 4 and 21 days (median, 14 days). There were no treatment-related adverse events.</p>\n",
      "<p>\"In clinical trials, so far, gevokizumab has been studied in nearly 500 patients. The studies have shown that gevokizumab is well-tolerated, and no drug-related adverse events have been reported,\" Fred Kurland, chief financial officer of Xoma, said in an email interview with <italic>Medscape Medical News</italic>.</p>\n",
      "<p>Although it appears that gevokizumab \"may offer a viable treatment option in BehÃ§et's disease, it remains to be seen if an IL-1 antibody will have an effect in other forms of noninfectious uveitis. A phase 3 clinical trial to evaluate the efficacy of [gevokizumab] in the treatment of noninfectious uveitis is in the recruitment process,\" Dr. Kay said.</p>\n",
      "<p>\"Gevokizumab does offer the possibility of a pathophysiology-driven targeted therapy for IL-1 related uveitis, and if proven safe and effective in a phase 3 trial, this could provide a valuable option in the treatment of noninfectious intermediate uveitis, posterior uveitis, and panuveitis. Even if this drug is only shown to be effective in BehÃ§et's disease, this could provide a useful and targeted treatment for an extremely aggressive condition, perhaps limiting broader and more toxic immunosuppression,\" Dr. Kay said.</p>\n",
      "<p>\n",
      "<bold>Other Potential Indications</bold>\n",
      "</p>\n",
      "<p>\"As an IL-1Î² inhibitor, gevokizumab has potential in a very large number of indications that are driven by inflammation, such as noninfectious uveitis.... [W]e are also engaged in 2 proof-of-concept phase 2 trials using gevokizumab in patients with moderate to severe acne vulgaris and in erosive osteoarthritis of the hand, and we will initiate a third proof-of-concept trial in another indication later this year,\" Kurland explained.</p>\n",
      "<p>\"With respect to the [noninfectious uveitis] market specifically, we estimate that there are approximately 150,000 patients in the [United States who have noninfectious uveitis],\" Kurland added, noting they are not discussing the drug's pricing yet.</p>\n",
      "<p>\n",
      "<italic>Dr. Kay has disclosed no relevant financial relationships.</italic>\n",
      "</p>\n",
      "</sec>\n",
      "</sec>\n",
      "</sec>\n",
      "</body>\n",
      "<back>\n",
      "<ref-list>\n",
      "<title>References</title>\n",
      "<list>\n",
      "<list-item>\n",
      "<p/>\n",
      "</list-item>\n",
      "</list>\n",
      "</ref-list>\n",
      "<ack>\n",
      "<title>Acknowledgements</title>\n",
      "<p/>\n",
      "</ack>\n",
      "<fn-group>\n",
      "<fn fn-type=\"bkmtr_front\">\n",
      "<p/>\n",
      "</fn>\n",
      "</fn-group>\n",
      "</back>\n",
      "</article>>\n"
     ]
    }
   ],
   "source": [
    "from bs4 import BeautifulSoup\n",
    "with open(r\"C:\\Users\\rezaa\\Videos\\Captures\\12.AI\\1.NLP\\web scrapping\\xml_single articles\\769952.xml\", 'r') as file:\n",
    "    content = file.read()\n",
    "    soup = BeautifulSoup(content,'xml')\n",
    "print(soup.prettify)"
   ]
  },
  {
   "cell_type": "markdown",
   "id": "add33242",
   "metadata": {},
   "source": [
    "## Extracting the data"
   ]
  },
  {
   "cell_type": "code",
   "execution_count": 2,
   "id": "b9152b26",
   "metadata": {},
   "outputs": [
    {
     "data": {
      "text/plain": [
       "'\\n\\n\\n\\n\\n\\n\\nAugust 29, 2012 â€” The US Food and Drug Administration (FDA) has granted orphan drug status to gevokizumab (Xoma 052, Xoma Corp), a monoclonal antibody that binds strongly to interleukin 1Î² (IL-1Î²), for the treatment of noninfectious intermediate uveitis, posterior uveitis, or panuveitis, or chronic noninfectious anterior uveitis.\\nThe Orphan Drug Act of 1983 was passed to encourage companies to develop treatments for rare diseases (diseases that affect fewer than 200,000 people in the United States). Because the market is so small, such treatments can be unprofitable to develop. Companies that develop orphan drugs receive a 50% tax credit for the cost of conducting human clinical trials, 7-year marketing exclusivity, and other incentives.\\nBehÃ§et\\'s disease is a rare multisystem disease that causes blood vessel inflammation throughout the body. Common symptoms are mouth sores, genital sores, and a type of panuveitis known as BehÃ§et\\'s uveitis, an inflammation of the uvea, retina, and vitreous humor that can lead to retinal detachment, vitreous hemorrhage, glaucoma, and blindness.\\n\"A genetic association has been shown between BehÃ§et\\'s disease and the IL-1 gene cluster, and IL-1Î² has been implicated as a mediator in BehÃ§et\\'s disease pathogenesis,\" Christine Kay, MD, the director of Retinal Clinical Research and the director of the Electrophysiology Service in the Vitreoretinal Division of the Department of Ophthalmology at the University of Florida in Gainesville, told Medscape Medical News. Dr. Kay is a clinical correspondent for the American Academy of Ophthalmology.\\n\"Gevokizumab regulates the activation of IL-1 receptors and can be intravenously or subcutaneously administered,\" Dr. Kay added.\\nPatients with BehÃ§et\\'s uveitis have few treatment options. \"There are currently only 2 drugs FDA-approved for the treatment of chronic noninfectious intermediate, posterior, and panuveitis (Retisert [Bausch & Lomb] and Ozurdex [Allergan]), and both are extended-release corticosteroid ocular implants,\" Dr. Kay said.\\nResults of a proof-of-concept phase 2 trial of intravenous gevokizumab in 7 patients with BehÃ§et\\'s uveitis were published in the April issue of the Annals of Rheumatic Diseases. In that trial patients were given a single infusion of gevokizumab (0.3 mg/kg), and all patients experienced complete reduction of intraocular inflammation in between 4 and 21 days (median, 14 days). There were no treatment-related adverse events.\\n\"In clinical trials, so far, gevokizumab has been studied in nearly 500 patients. The studies have shown that gevokizumab is well-tolerated, and no drug-related adverse events have been reported,\" Fred Kurland, chief financial officer of Xoma, said in an email interview with Medscape Medical News.\\nAlthough it appears that gevokizumab \"may offer a viable treatment option in BehÃ§et\\'s disease, it remains to be seen if an IL-1 antibody will have an effect in other forms of noninfectious uveitis. A phase 3 clinical trial to evaluate the efficacy of [gevokizumab] in the treatment of noninfectious uveitis is in the recruitment process,\" Dr. Kay said.\\n\"Gevokizumab does offer the possibility of a pathophysiology-driven targeted therapy for IL-1 related uveitis, and if proven safe and effective in a phase 3 trial, this could provide a valuable option in the treatment of noninfectious intermediate uveitis, posterior uveitis, and panuveitis. Even if this drug is only shown to be effective in BehÃ§et\\'s disease, this could provide a useful and targeted treatment for an extremely aggressive condition, perhaps limiting broader and more toxic immunosuppression,\" Dr. Kay said.\\n\\nOther Potential Indications\\n\\n\"As an IL-1Î² inhibitor, gevokizumab has potential in a very large number of indications that are driven by inflammation, such as noninfectious uveitis.... [W]e are also engaged in 2 proof-of-concept phase 2 trials using gevokizumab in patients with moderate to severe acne vulgaris and in erosive osteoarthritis of the hand, and we will initiate a third proof-of-concept trial in another indication later this year,\" Kurland explained.\\n\"With respect to the [noninfectious uveitis] market specifically, we estimate that there are approximately 150,000 patients in the [United States who have noninfectious uveitis],\" Kurland added, noting they are not discussing the drug\\'s pricing yet.\\n\\nDr. Kay has disclosed no relevant financial relationships.\\n\\n\\n\\n\\n'"
      ]
     },
     "execution_count": 2,
     "metadata": {},
     "output_type": "execute_result"
    }
   ],
   "source": [
    "content_text = soup.body.text\n",
    "content_text"
   ]
  },
  {
   "cell_type": "markdown",
   "id": "8291202f",
   "metadata": {},
   "source": [
    "## Cleaning the data without sepecial character"
   ]
  },
  {
   "cell_type": "code",
   "execution_count": 3,
   "id": "9f588183",
   "metadata": {},
   "outputs": [
    {
     "data": {
      "text/plain": [
       "['August 29 2012 â The US Food and Drug Administration FDA has granted orphan drug status to gevokizumab Xoma 052 Xoma Corp a monoclonal antibody that binds strongly to interleukin 1Î² IL 1Î² for the treatment of noninfectious intermediate uveitis posterior uveitis or panuveitis or chronic noninfectious anterior uveitis',\n",
       " 'The Orphan Drug Act of 1983 was passed to encourage companies to develop treatments for rare diseases diseases that affect fewer than 200 000 people in the United States',\n",
       " 'Because the market is so small such treatments can be unprofitable to develop',\n",
       " 'Companies that develop orphan drugs receive a 50 tax credit for the cost of conducting human clinical trials 7 year marketing exclusivity and other incentives',\n",
       " 'BehÃ et s disease is a rare multisystem disease that causes blood vessel inflammation throughout the body',\n",
       " 'Common symptoms are mouth sores genital sores and a type of panuveitis known as BehÃ et s uveitis an inflammation of the uvea retina and vitreous humor that can lead to retinal detachment vitreous hemorrhage glaucoma and blindness',\n",
       " 'A genetic association has been shown between BehÃ et s disease and the IL 1 gene cluster and IL 1Î² has been implicated as a mediator in BehÃ et s disease pathogenesis Christine Kay MD the director of Retinal Clinical Research and the director of the Electrophysiology Service in the Vitreoretinal Division of the Department of Ophthalmology at the University of Florida in Gainesville told Medscape Medical News',\n",
       " 'Dr Kay is a clinical correspondent for the American Academy of Ophthalmology',\n",
       " 'Gevokizumab regulates the activation of IL 1 receptors and can be intravenously or subcutaneously administered Dr Kay added',\n",
       " 'Patients with BehÃ et s uveitis have few treatment options',\n",
       " 'There are currently only 2 drugs FDA approved for the treatment of chronic noninfectious intermediate posterior and panuveitis Retisert Bausch Lomb and Ozurdex Allergan and both are extended release corticosteroid ocular implants Dr Kay said',\n",
       " 'Results of a proof of concept phase 2 trial of intravenous gevokizumab in 7 patients with BehÃ et s uveitis were published in the April issue of the Annals of Rheumatic Diseases',\n",
       " 'In that trial patients were given a single infusion of gevokizumab 0 3 mg kg and all patients experienced complete reduction of intraocular inflammation in between 4 and 21 days median 14 days',\n",
       " 'There were no treatment related adverse events',\n",
       " 'In clinical trials so far gevokizumab has been studied in nearly 500 patients',\n",
       " 'The studies have shown that gevokizumab is well tolerated and no drug related adverse events have been reported Fred Kurland chief financial officer of Xoma said in an email interview with Medscape Medical News',\n",
       " 'Although it appears that gevokizumab may offer a viable treatment option in BehÃ et s disease it remains to be seen if an IL 1 antibody will have an effect in other forms of noninfectious uveitis',\n",
       " 'A phase 3 clinical trial to evaluate the efficacy of gevokizumab in the treatment of noninfectious uveitis is in the recruitment process Dr Kay said',\n",
       " 'Gevokizumab does offer the possibility of a pathophysiology driven targeted therapy for IL 1 related uveitis and if proven safe and effective in a phase 3 trial this could provide a valuable option in the treatment of noninfectious intermediate uveitis posterior uveitis and panuveitis',\n",
       " 'Even if this drug is only shown to be effective in BehÃ et s disease this could provide a useful and targeted treatment for an extremely aggressive condition perhaps limiting broader and more toxic immunosuppression Dr Kay said',\n",
       " 'Other Potential Indications As an IL 1Î² inhibitor gevokizumab has potential in a very large number of indications that are driven by inflammation such as noninfectious uveitis W e are also engaged in 2 proof of concept phase 2 trials using gevokizumab in patients with moderate to severe acne vulgaris and in erosive osteoarthritis of the hand and we will initiate a third proof of concept trial in another indication later this year Kurland explained',\n",
       " 'With respect to the noninfectious uveitis market specifically we estimate that there are approximately 150 000 patients in the United States who have noninfectious uveitis Kurland added noting they are not discussing the drug s pricing yet',\n",
       " 'Dr Kay has disclosed no relevant financial relationships']"
      ]
     },
     "execution_count": 3,
     "metadata": {},
     "output_type": "execute_result"
    }
   ],
   "source": [
    "from nltk.tokenize import sent_tokenize\n",
    "tokens = sent_tokenize(content_text)\n",
    "tokens\n",
    "\n",
    "import re\n",
    "\n",
    "new_tokens = []\n",
    "for sent in tokens:\n",
    "    word_list = re.findall('\\w+',sent)\n",
    "    new_tokens.append(' '.join(word_list))\n",
    "    \n",
    "new_tokens"
   ]
  },
  {
   "cell_type": "code",
   "execution_count": null,
   "id": "15dcf371",
   "metadata": {},
   "outputs": [],
   "source": []
  }
 ],
 "metadata": {
  "kernelspec": {
   "display_name": "Python 3 (ipykernel)",
   "language": "python",
   "name": "python3"
  },
  "language_info": {
   "codemirror_mode": {
    "name": "ipython",
    "version": 3
   },
   "file_extension": ".py",
   "mimetype": "text/x-python",
   "name": "python",
   "nbconvert_exporter": "python",
   "pygments_lexer": "ipython3",
   "version": "3.11.5"
  }
 },
 "nbformat": 4,
 "nbformat_minor": 5
}
