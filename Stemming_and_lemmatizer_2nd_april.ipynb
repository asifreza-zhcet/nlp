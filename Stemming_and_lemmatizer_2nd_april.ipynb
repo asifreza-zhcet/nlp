{
 "cells": [
  {
   "cell_type": "markdown",
   "id": "5c32a627",
   "metadata": {},
   "source": [
    "# Stemming and lemmatizer class work"
   ]
  },
  {
   "cell_type": "markdown",
   "id": "fbed9216",
   "metadata": {},
   "source": [
    "## 2. Stemming"
   ]
  },
  {
   "cell_type": "code",
   "execution_count": 2,
   "id": "6890de27",
   "metadata": {},
   "outputs": [],
   "source": [
    "paragraph = \"\"\"I have three visions for India. In 3000 years of our history, people from all over \n",
    "               the world have come and invaded us, captured our lands, conquered our minds. \n",
    "               From Alexander onwards, the Greeks, the Turks, the Moguls, the Portuguese, the British,\n",
    "               the French, the Dutch, all of them came and looted us, took over what was ours. \n",
    "               Yet we have not done this to any other nation. We have not conquered anyone. \n",
    "               We have not grabbed their land, their culture, \n",
    "               their history and tried to enforce our way of life on them. \n",
    "                 Because we respect the freedom of others.That is why my \n",
    "               first vision is that of freedom. I believe that India got its first vision of \n",
    "               this in 1857, when we started the War of Independence. It is this freedom that\n",
    "               we must protect and nurture and build on. If we are not free, no one will respect us.\n",
    "               My second vision for India’s development. For fifty years we have been a developing nation.\n",
    "               It is time we see ourselves as a developed nation. We are among the top 5 nations of the world\n",
    "               in terms of GDP. We have a 10 percent growth rate in most areas. Our poverty levels are falling.\n",
    "               Our achievements are being globally recognised today. Yet we lack the self-confidence to\n",
    "               see ourselves as a developed nation, self-reliant and self-assured. Isn’t this incorrect?\n",
    "               I have a third vision. India must stand up to the world. Because I believe that unless India \n",
    "               stands up to the world, no one will respect us. Only strength respects strength. We must be \n",
    "               strong not only as a military power but also as an economic power. Both must go hand-in-hand. \n",
    "               My good fortune was to have worked with three great minds. Dr. Vikram Sarabhai of the Dept. of \n",
    "               space, Professor Satish Dhawan, who succeeded him and Dr. Brahm Prakash, father of nuclear material.\n",
    "               I was lucky to have worked with all three of them closely and consider this the great opportunity of my life. \n",
    "               I see four milestones in my career. india is great compare to other country \"\"\""
   ]
  },
  {
   "cell_type": "markdown",
   "id": "c6633929",
   "metadata": {},
   "source": [
    "### Sentence Tokenization"
   ]
  },
  {
   "cell_type": "code",
   "execution_count": 3,
   "id": "d5b4bbb1",
   "metadata": {},
   "outputs": [
    {
     "data": {
      "text/plain": [
       "['I have three visions for India.',\n",
       " 'In 3000 years of our history, people from all over \\n               the world have come and invaded us, captured our lands, conquered our minds.',\n",
       " 'From Alexander onwards, the Greeks, the Turks, the Moguls, the Portuguese, the British,\\n               the French, the Dutch, all of them came and looted us, took over what was ours.',\n",
       " 'Yet we have not done this to any other nation.',\n",
       " 'We have not conquered anyone.',\n",
       " 'We have not grabbed their land, their culture, \\n               their history and tried to enforce our way of life on them.',\n",
       " 'Why?',\n",
       " 'Because we respect the freedom of others.That is why my \\n               first vision is that of freedom.',\n",
       " 'I believe that India got its first vision of \\n               this in 1857, when we started the War of Independence.',\n",
       " 'It is this freedom that\\n               we must protect and nurture and build on.',\n",
       " 'If we are not free, no one will respect us.',\n",
       " 'My second vision for India’s development.',\n",
       " 'For fifty years we have been a developing nation.',\n",
       " 'It is time we see ourselves as a developed nation.',\n",
       " 'We are among the top 5 nations of the world\\n               in terms of GDP.',\n",
       " 'We have a 10 percent growth rate in most areas.',\n",
       " 'Our poverty levels are falling.',\n",
       " 'Our achievements are being globally recognised today.',\n",
       " 'Yet we lack the self-confidence to\\n               see ourselves as a developed nation, self-reliant and self-assured.',\n",
       " 'Isn’t this incorrect?',\n",
       " 'I have a third vision.',\n",
       " 'India must stand up to the world.',\n",
       " 'Because I believe that unless India \\n               stands up to the world, no one will respect us.',\n",
       " 'Only strength respects strength.',\n",
       " 'We must be \\n               strong not only as a military power but also as an economic power.',\n",
       " 'Both must go hand-in-hand.',\n",
       " 'My good fortune was to have worked with three great minds.',\n",
       " 'Dr. Vikram Sarabhai of the Dept.',\n",
       " 'of \\n               space, Professor Satish Dhawan, who succeeded him and Dr. Brahm Prakash, father of nuclear material.',\n",
       " 'I was lucky to have worked with all three of them closely and consider this the great opportunity of my life.',\n",
       " 'I see four milestones in my career.',\n",
       " 'india is great compare to other country']"
      ]
     },
     "execution_count": 3,
     "metadata": {},
     "output_type": "execute_result"
    }
   ],
   "source": [
    "from nltk.tokenize import sent_tokenize\n",
    "sentences = sent_tokenize(paragraph)\n",
    "sentences"
   ]
  },
  {
   "cell_type": "markdown",
   "id": "40ea329c",
   "metadata": {},
   "source": [
    "### Porter Stemming and removing stopwords"
   ]
  },
  {
   "cell_type": "code",
   "execution_count": 4,
   "id": "a96ff0eb",
   "metadata": {
    "scrolled": true
   },
   "outputs": [
    {
     "data": {
      "text/plain": [
       "['three vision india .',\n",
       " '3000 year histori , peopl world come invad us , captur land , conquer mind .',\n",
       " 'alexand onward , greek , turk , mogul , portugues , british , french , dutch , came loot us , took .',\n",
       " 'yet done nation .',\n",
       " 'conquer anyon .',\n",
       " 'grab land , cultur , histori tri enforc way life .',\n",
       " '?',\n",
       " 'respect freedom others.that first vision freedom .',\n",
       " 'believ india got first vision 1857 , start war independ .',\n",
       " 'freedom must protect nurtur build .',\n",
       " 'free , one respect us .',\n",
       " 'second vision india ’ develop .',\n",
       " 'fifti year develop nation .',\n",
       " 'time see develop nation .',\n",
       " 'among top 5 nation world term gdp .',\n",
       " '10 percent growth rate area .',\n",
       " 'poverti level fall .',\n",
       " 'achiev global recognis today .',\n",
       " 'yet lack self-confid see develop nation , self-reli self-assur .',\n",
       " '’ incorrect ?',\n",
       " 'third vision .',\n",
       " 'india must stand world .',\n",
       " 'believ unless india stand world , one respect us .',\n",
       " 'strength respect strength .',\n",
       " 'must strong militari power also econom power .',\n",
       " 'must go hand-in-hand .',\n",
       " 'good fortun work three great mind .',\n",
       " 'dr. vikram sarabhai dept .',\n",
       " 'space , professor satish dhawan , succeed dr. brahm prakash , father nuclear materi .',\n",
       " 'lucki work three close consid great opportun life .',\n",
       " 'see four mileston career .',\n",
       " 'india great compar countri']"
      ]
     },
     "execution_count": 4,
     "metadata": {},
     "output_type": "execute_result"
    }
   ],
   "source": [
    "from nltk.corpus import stopwords\n",
    "from nltk.tokenize import word_tokenize\n",
    "from nltk.stem import PorterStemmer\n",
    "stemmer = PorterStemmer()\n",
    "word_list = stopwords.words('english')\n",
    "for index, sent in enumerate(sentences):\n",
    "    words = word_tokenize(sent)\n",
    "    words_no_stop = [stemmer.stem(word) for word in words if word.lower() not in set(word_list)]\n",
    "    sentences[index] = ' '.join(words_no_stop)\n",
    "    \n",
    "sentences"
   ]
  },
  {
   "cell_type": "markdown",
   "id": "396064fe",
   "metadata": {},
   "source": [
    "### Removing comma using regex"
   ]
  },
  {
   "cell_type": "code",
   "execution_count": 11,
   "id": "dab92034",
   "metadata": {},
   "outputs": [
    {
     "data": {
      "text/plain": [
       "['three vision india',\n",
       " '3000 year histori peopl world come invad us captur land conquer mind',\n",
       " 'alexand onward greek turk mogul portugues british french dutch came loot us took',\n",
       " 'yet done nation',\n",
       " 'conquer anyon',\n",
       " 'grab land cultur histori tri enforc way life',\n",
       " '',\n",
       " 'respect freedom others that first vision freedom',\n",
       " 'believ india got first vision 1857 start war independ',\n",
       " 'freedom must protect nurtur build',\n",
       " 'free one respect us',\n",
       " 'second vision india develop',\n",
       " 'fifti year develop nation',\n",
       " 'time see develop nation',\n",
       " 'among top 5 nation world term gdp',\n",
       " '10 percent growth rate area',\n",
       " 'poverti level fall',\n",
       " 'achiev global recognis today',\n",
       " 'yet lack self confid see develop nation self reli self assur',\n",
       " 'incorrect',\n",
       " 'third vision',\n",
       " 'india must stand world',\n",
       " 'believ unless india stand world one respect us',\n",
       " 'strength respect strength',\n",
       " 'must strong militari power also econom power',\n",
       " 'must go hand in hand',\n",
       " 'good fortun work three great mind',\n",
       " 'dr vikram sarabhai dept',\n",
       " 'space professor satish dhawan succeed dr brahm prakash father nuclear materi',\n",
       " 'lucki work three close consid great opportun life',\n",
       " 'see four mileston career',\n",
       " 'india great compar countri']"
      ]
     },
     "execution_count": 11,
     "metadata": {},
     "output_type": "execute_result"
    }
   ],
   "source": [
    "import re\n",
    "a=[]\n",
    "for index,sentence in enumerate(sentences):\n",
    "    a.append(' '.join(re.findall('\\w+',sentence)))\n",
    "a"
   ]
  },
  {
   "cell_type": "markdown",
   "id": "62b59b44",
   "metadata": {},
   "source": [
    "## 2. Lemmatizer\n",
    "### First cleaning the data using regex"
   ]
  },
  {
   "cell_type": "code",
   "execution_count": 14,
   "id": "b3ba2a01",
   "metadata": {},
   "outputs": [
    {
     "data": {
      "text/plain": [
       "['I have three visions for India',\n",
       " 'In 3000 years of our history people from all over the world have come and invaded us captured our lands conquered our minds',\n",
       " 'From Alexander onwards the Greeks the Turks the Moguls the Portuguese the British the French the Dutch all of them came and looted us took over what was ours',\n",
       " 'Yet we have not done this to any other nation',\n",
       " 'We have not conquered anyone',\n",
       " 'We have not grabbed their land their culture their history and tried to enforce our way of life on them',\n",
       " 'Why',\n",
       " 'Because we respect the freedom of others That is why my first vision is that of freedom',\n",
       " 'I believe that India got its first vision of this in 1857 when we started the War of Independence',\n",
       " 'It is this freedom that we must protect and nurture and build on',\n",
       " 'If we are not free no one will respect us',\n",
       " 'My second vision for India s development',\n",
       " 'For fifty years we have been a developing nation',\n",
       " 'It is time we see ourselves as a developed nation',\n",
       " 'We are among the top 5 nations of the world in terms of GDP',\n",
       " 'We have a 10 percent growth rate in most areas',\n",
       " 'Our poverty levels are falling',\n",
       " 'Our achievements are being globally recognised today',\n",
       " 'Yet we lack the self confidence to see ourselves as a developed nation self reliant and self assured',\n",
       " 'Isn t this incorrect',\n",
       " 'I have a third vision',\n",
       " 'India must stand up to the world',\n",
       " 'Because I believe that unless India stands up to the world no one will respect us',\n",
       " 'Only strength respects strength',\n",
       " 'We must be strong not only as a military power but also as an economic power',\n",
       " 'Both must go hand in hand',\n",
       " 'My good fortune was to have worked with three great minds',\n",
       " 'Dr Vikram Sarabhai of the Dept',\n",
       " 'of space Professor Satish Dhawan who succeeded him and Dr Brahm Prakash father of nuclear material',\n",
       " 'I was lucky to have worked with all three of them closely and consider this the great opportunity of my life',\n",
       " 'I see four milestones in my career',\n",
       " 'india is great compare to other country']"
      ]
     },
     "execution_count": 14,
     "metadata": {},
     "output_type": "execute_result"
    }
   ],
   "source": [
    "from nltk.stem import WordNetLemmatizer\n",
    "lm = WordNetLemmatizer()\n",
    "sentences1 = sent_tokenize(paragraph)\n",
    "for index,sentence in enumerate(sentences1):\n",
    "    sentences1[index] = ' '.join(re.findall('\\w+',sentence))\n",
    "sentences1\n"
   ]
  },
  {
   "cell_type": "markdown",
   "id": "50cdb939",
   "metadata": {},
   "source": [
    "### Using lemmatization"
   ]
  },
  {
   "cell_type": "code",
   "execution_count": 17,
   "id": "f59cf6a7",
   "metadata": {},
   "outputs": [
    {
     "data": {
      "text/plain": [
       "['three vision India',\n",
       " '3000 year history people world come invaded u captured land conquered mind',\n",
       " 'Alexander onwards Greeks Turks Moguls Portuguese British French Dutch came looted u took',\n",
       " 'Yet done nation',\n",
       " 'conquered anyone',\n",
       " 'grabbed land culture history tried enforce way life',\n",
       " '',\n",
       " 'respect freedom others first vision freedom',\n",
       " 'believe India got first vision 1857 started War Independence',\n",
       " 'freedom must protect nurture build',\n",
       " 'free one respect u',\n",
       " 'second vision India development',\n",
       " 'fifty year developing nation',\n",
       " 'time see developed nation',\n",
       " 'among top 5 nation world term GDP',\n",
       " '10 percent growth rate area',\n",
       " 'poverty level falling',\n",
       " 'achievement globally recognised today',\n",
       " 'Yet lack self confidence see developed nation self reliant self assured',\n",
       " 'incorrect',\n",
       " 'third vision',\n",
       " 'India must stand world',\n",
       " 'believe unless India stand world one respect u',\n",
       " 'strength respect strength',\n",
       " 'must strong military power also economic power',\n",
       " 'must go hand hand',\n",
       " 'good fortune worked three great mind',\n",
       " 'Dr Vikram Sarabhai Dept',\n",
       " 'space Professor Satish Dhawan succeeded Dr Brahm Prakash father nuclear material',\n",
       " 'lucky worked three closely consider great opportunity life',\n",
       " 'see four milestone career',\n",
       " 'india great compare country']"
      ]
     },
     "execution_count": 17,
     "metadata": {},
     "output_type": "execute_result"
    }
   ],
   "source": [
    "for index, sent in enumerate(sentences1):\n",
    "    words = word_tokenize(sent)\n",
    "    words_no_stop = [lm.lemmatize(word) for word in words if word.lower() not in set(word_list)]\n",
    "    sentences1[index] = ' '.join(words_no_stop)\n",
    "    \n",
    "sentences1\n"
   ]
  },
  {
   "cell_type": "code",
   "execution_count": null,
   "id": "c05a53bc",
   "metadata": {},
   "outputs": [],
   "source": []
  }
 ],
 "metadata": {
  "kernelspec": {
   "display_name": "Python 3 (ipykernel)",
   "language": "python",
   "name": "python3"
  },
  "language_info": {
   "codemirror_mode": {
    "name": "ipython",
    "version": 3
   },
   "file_extension": ".py",
   "mimetype": "text/x-python",
   "name": "python",
   "nbconvert_exporter": "python",
   "pygments_lexer": "ipython3",
   "version": "3.11.5"
  }
 },
 "nbformat": 4,
 "nbformat_minor": 5
}
