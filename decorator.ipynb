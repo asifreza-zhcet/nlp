{
 "cells": [
  {
   "cell_type": "markdown",
   "id": "e2f6b47d",
   "metadata": {},
   "source": [
    "# Decorator"
   ]
  },
  {
   "cell_type": "markdown",
   "id": "60c394de",
   "metadata": {},
   "source": [
    "### Suppose we have a function and we want to cahnge the functionality of the function without changing the function then thi can be done usinf decorators"
   ]
  },
  {
   "cell_type": "code",
   "execution_count": 1,
   "id": "3853a67a",
   "metadata": {},
   "outputs": [],
   "source": [
    "# Let us have a function \n",
    "def div(a,b):\n",
    "    c = a / b\n",
    "    return c"
   ]
  },
  {
   "cell_type": "code",
   "execution_count": 2,
   "id": "cfb01b6a",
   "metadata": {},
   "outputs": [
    {
     "data": {
      "text/plain": [
       "2.5"
      ]
     },
     "execution_count": 2,
     "metadata": {},
     "output_type": "execute_result"
    }
   ],
   "source": [
    "div(5,2)"
   ]
  },
  {
   "cell_type": "code",
   "execution_count": 3,
   "id": "1792f126",
   "metadata": {},
   "outputs": [
    {
     "data": {
      "text/plain": [
       "0.4"
      ]
     },
     "execution_count": 3,
     "metadata": {},
     "output_type": "execute_result"
    }
   ],
   "source": [
    "div(2,5)\n",
    "# but we want the same result meaning the division should be higher value by lower always"
   ]
  },
  {
   "cell_type": "code",
   "execution_count": 4,
   "id": "4b26b7aa",
   "metadata": {},
   "outputs": [],
   "source": [
    "# This can be done by first seperating the function and the arguments and the handling then differently\n",
    "\n",
    "def decor(func):     # in this function we pass the function whose functionality we want to change\n",
    "    def wrapper(x,y): # here we pass the argument\n",
    "        if x < y :\n",
    "            x, y = y, x\n",
    "            return func(x,y)\n",
    "    return wrapper"
   ]
  },
  {
   "cell_type": "code",
   "execution_count": 5,
   "id": "ed3d0150",
   "metadata": {},
   "outputs": [
    {
     "data": {
      "text/plain": [
       "2.5"
      ]
     },
     "execution_count": 5,
     "metadata": {},
     "output_type": "execute_result"
    }
   ],
   "source": [
    "wrap = decor(div) # We pass the div function into the decor function which returns the wrapper function but not executes it\n",
    "# Now we can execute the wrapper function whose name has been changed to wrap in the above case\n",
    "wrap(2,5)"
   ]
  },
  {
   "cell_type": "code",
   "execution_count": 6,
   "id": "9f187b94",
   "metadata": {},
   "outputs": [
    {
     "data": {
      "text/plain": [
       "2.5"
      ]
     },
     "execution_count": 6,
     "metadata": {},
     "output_type": "execute_result"
    }
   ],
   "source": [
    "# The above function can be done easily by decorator operator @\n",
    "\n",
    "@decor\n",
    "def div(a,b):\n",
    "    c = a/b\n",
    "    return c\n",
    "\n",
    "div(2,5)"
   ]
  },
  {
   "cell_type": "code",
   "execution_count": null,
   "id": "0f091207",
   "metadata": {},
   "outputs": [],
   "source": []
  }
 ],
 "metadata": {
  "kernelspec": {
   "display_name": "Python 3 (ipykernel)",
   "language": "python",
   "name": "python3"
  },
  "language_info": {
   "codemirror_mode": {
    "name": "ipython",
    "version": 3
   },
   "file_extension": ".py",
   "mimetype": "text/x-python",
   "name": "python",
   "nbconvert_exporter": "python",
   "pygments_lexer": "ipython3",
   "version": "3.11.5"
  }
 },
 "nbformat": 4,
 "nbformat_minor": 5
}
